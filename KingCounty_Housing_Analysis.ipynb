{
  "nbformat": 4,
  "nbformat_minor": 0,
  "metadata": {
    "colab": {
      "provenance": []
    },
    "kernelspec": {
      "name": "python3",
      "display_name": "Python 3"
    },
    "language_info": {
      "name": "python"
    }
  },
  "cells": [
    {
      "cell_type": "markdown",
      "source": [
        "filepath='https://cf-courses-data.s3.us.cloud-object-storage.appdomain.cloud/IBMDeveloperSkillsNetwork-DA0101EN-SkillsNetwork/labs/FinalModule_Coursera/data/kc_house_data_NaN.csv'"
      ],
      "metadata": {
        "id": "PlYjGk-Tjyv3"
      }
    },
    {
      "cell_type": "code",
      "execution_count": 25,
      "metadata": {
        "id": "NxWIYHkrg1PH"
      },
      "outputs": [],
      "source": [
        "# Importing necessary libraries\n",
        "import pandas as pd\n",
        "import numpy as np\n",
        "import matplotlib.pyplot as plt\n",
        "import seaborn as sns\n",
        "from sklearn.linear_model import LinearRegression\n",
        "from sklearn.pipeline import Pipeline\n",
        "from sklearn.preprocessing import StandardScaler,PolynomialFeatures"
      ]
    },
    {
      "cell_type": "code",
      "source": [
        "# Load the dataset\n",
        "df = pd.read_csv('kc_house_data.csv')\n",
        "df.head()"
      ],
      "metadata": {
        "colab": {
          "base_uri": "https://localhost:8080/",
          "height": 273
        },
        "id": "bVIncdB2kEMK",
        "outputId": "f206dbc0-f379-45e0-8d53-4a966621f2fb"
      },
      "execution_count": 2,
      "outputs": [
        {
          "output_type": "execute_result",
          "data": {
            "text/plain": [
              "   Unnamed: 0          id             date     price  bedrooms  bathrooms  \\\n",
              "0           0  7129300520  20141013T000000  221900.0       3.0       1.00   \n",
              "1           1  6414100192  20141209T000000  538000.0       3.0       2.25   \n",
              "2           2  5631500400  20150225T000000  180000.0       2.0       1.00   \n",
              "3           3  2487200875  20141209T000000  604000.0       4.0       3.00   \n",
              "4           4  1954400510  20150218T000000  510000.0       3.0       2.00   \n",
              "\n",
              "   sqft_living  sqft_lot  floors  waterfront  ...  grade  sqft_above  \\\n",
              "0         1180      5650     1.0           0  ...      7        1180   \n",
              "1         2570      7242     2.0           0  ...      7        2170   \n",
              "2          770     10000     1.0           0  ...      6         770   \n",
              "3         1960      5000     1.0           0  ...      7        1050   \n",
              "4         1680      8080     1.0           0  ...      8        1680   \n",
              "\n",
              "   sqft_basement  yr_built  yr_renovated  zipcode      lat     long  \\\n",
              "0              0      1955             0    98178  47.5112 -122.257   \n",
              "1            400      1951          1991    98125  47.7210 -122.319   \n",
              "2              0      1933             0    98028  47.7379 -122.233   \n",
              "3            910      1965             0    98136  47.5208 -122.393   \n",
              "4              0      1987             0    98074  47.6168 -122.045   \n",
              "\n",
              "   sqft_living15  sqft_lot15  \n",
              "0           1340        5650  \n",
              "1           1690        7639  \n",
              "2           2720        8062  \n",
              "3           1360        5000  \n",
              "4           1800        7503  \n",
              "\n",
              "[5 rows x 22 columns]"
            ],
            "text/html": [
              "\n",
              "  <div id=\"df-16a1e88a-6afc-4105-877b-dda4ca730e98\" class=\"colab-df-container\">\n",
              "    <div>\n",
              "<style scoped>\n",
              "    .dataframe tbody tr th:only-of-type {\n",
              "        vertical-align: middle;\n",
              "    }\n",
              "\n",
              "    .dataframe tbody tr th {\n",
              "        vertical-align: top;\n",
              "    }\n",
              "\n",
              "    .dataframe thead th {\n",
              "        text-align: right;\n",
              "    }\n",
              "</style>\n",
              "<table border=\"1\" class=\"dataframe\">\n",
              "  <thead>\n",
              "    <tr style=\"text-align: right;\">\n",
              "      <th></th>\n",
              "      <th>Unnamed: 0</th>\n",
              "      <th>id</th>\n",
              "      <th>date</th>\n",
              "      <th>price</th>\n",
              "      <th>bedrooms</th>\n",
              "      <th>bathrooms</th>\n",
              "      <th>sqft_living</th>\n",
              "      <th>sqft_lot</th>\n",
              "      <th>floors</th>\n",
              "      <th>waterfront</th>\n",
              "      <th>...</th>\n",
              "      <th>grade</th>\n",
              "      <th>sqft_above</th>\n",
              "      <th>sqft_basement</th>\n",
              "      <th>yr_built</th>\n",
              "      <th>yr_renovated</th>\n",
              "      <th>zipcode</th>\n",
              "      <th>lat</th>\n",
              "      <th>long</th>\n",
              "      <th>sqft_living15</th>\n",
              "      <th>sqft_lot15</th>\n",
              "    </tr>\n",
              "  </thead>\n",
              "  <tbody>\n",
              "    <tr>\n",
              "      <th>0</th>\n",
              "      <td>0</td>\n",
              "      <td>7129300520</td>\n",
              "      <td>20141013T000000</td>\n",
              "      <td>221900.0</td>\n",
              "      <td>3.0</td>\n",
              "      <td>1.00</td>\n",
              "      <td>1180</td>\n",
              "      <td>5650</td>\n",
              "      <td>1.0</td>\n",
              "      <td>0</td>\n",
              "      <td>...</td>\n",
              "      <td>7</td>\n",
              "      <td>1180</td>\n",
              "      <td>0</td>\n",
              "      <td>1955</td>\n",
              "      <td>0</td>\n",
              "      <td>98178</td>\n",
              "      <td>47.5112</td>\n",
              "      <td>-122.257</td>\n",
              "      <td>1340</td>\n",
              "      <td>5650</td>\n",
              "    </tr>\n",
              "    <tr>\n",
              "      <th>1</th>\n",
              "      <td>1</td>\n",
              "      <td>6414100192</td>\n",
              "      <td>20141209T000000</td>\n",
              "      <td>538000.0</td>\n",
              "      <td>3.0</td>\n",
              "      <td>2.25</td>\n",
              "      <td>2570</td>\n",
              "      <td>7242</td>\n",
              "      <td>2.0</td>\n",
              "      <td>0</td>\n",
              "      <td>...</td>\n",
              "      <td>7</td>\n",
              "      <td>2170</td>\n",
              "      <td>400</td>\n",
              "      <td>1951</td>\n",
              "      <td>1991</td>\n",
              "      <td>98125</td>\n",
              "      <td>47.7210</td>\n",
              "      <td>-122.319</td>\n",
              "      <td>1690</td>\n",
              "      <td>7639</td>\n",
              "    </tr>\n",
              "    <tr>\n",
              "      <th>2</th>\n",
              "      <td>2</td>\n",
              "      <td>5631500400</td>\n",
              "      <td>20150225T000000</td>\n",
              "      <td>180000.0</td>\n",
              "      <td>2.0</td>\n",
              "      <td>1.00</td>\n",
              "      <td>770</td>\n",
              "      <td>10000</td>\n",
              "      <td>1.0</td>\n",
              "      <td>0</td>\n",
              "      <td>...</td>\n",
              "      <td>6</td>\n",
              "      <td>770</td>\n",
              "      <td>0</td>\n",
              "      <td>1933</td>\n",
              "      <td>0</td>\n",
              "      <td>98028</td>\n",
              "      <td>47.7379</td>\n",
              "      <td>-122.233</td>\n",
              "      <td>2720</td>\n",
              "      <td>8062</td>\n",
              "    </tr>\n",
              "    <tr>\n",
              "      <th>3</th>\n",
              "      <td>3</td>\n",
              "      <td>2487200875</td>\n",
              "      <td>20141209T000000</td>\n",
              "      <td>604000.0</td>\n",
              "      <td>4.0</td>\n",
              "      <td>3.00</td>\n",
              "      <td>1960</td>\n",
              "      <td>5000</td>\n",
              "      <td>1.0</td>\n",
              "      <td>0</td>\n",
              "      <td>...</td>\n",
              "      <td>7</td>\n",
              "      <td>1050</td>\n",
              "      <td>910</td>\n",
              "      <td>1965</td>\n",
              "      <td>0</td>\n",
              "      <td>98136</td>\n",
              "      <td>47.5208</td>\n",
              "      <td>-122.393</td>\n",
              "      <td>1360</td>\n",
              "      <td>5000</td>\n",
              "    </tr>\n",
              "    <tr>\n",
              "      <th>4</th>\n",
              "      <td>4</td>\n",
              "      <td>1954400510</td>\n",
              "      <td>20150218T000000</td>\n",
              "      <td>510000.0</td>\n",
              "      <td>3.0</td>\n",
              "      <td>2.00</td>\n",
              "      <td>1680</td>\n",
              "      <td>8080</td>\n",
              "      <td>1.0</td>\n",
              "      <td>0</td>\n",
              "      <td>...</td>\n",
              "      <td>8</td>\n",
              "      <td>1680</td>\n",
              "      <td>0</td>\n",
              "      <td>1987</td>\n",
              "      <td>0</td>\n",
              "      <td>98074</td>\n",
              "      <td>47.6168</td>\n",
              "      <td>-122.045</td>\n",
              "      <td>1800</td>\n",
              "      <td>7503</td>\n",
              "    </tr>\n",
              "  </tbody>\n",
              "</table>\n",
              "<p>5 rows × 22 columns</p>\n",
              "</div>\n",
              "    <div class=\"colab-df-buttons\">\n",
              "\n",
              "  <div class=\"colab-df-container\">\n",
              "    <button class=\"colab-df-convert\" onclick=\"convertToInteractive('df-16a1e88a-6afc-4105-877b-dda4ca730e98')\"\n",
              "            title=\"Convert this dataframe to an interactive table.\"\n",
              "            style=\"display:none;\">\n",
              "\n",
              "  <svg xmlns=\"http://www.w3.org/2000/svg\" height=\"24px\" viewBox=\"0 -960 960 960\">\n",
              "    <path d=\"M120-120v-720h720v720H120Zm60-500h600v-160H180v160Zm220 220h160v-160H400v160Zm0 220h160v-160H400v160ZM180-400h160v-160H180v160Zm440 0h160v-160H620v160ZM180-180h160v-160H180v160Zm440 0h160v-160H620v160Z\"/>\n",
              "  </svg>\n",
              "    </button>\n",
              "\n",
              "  <style>\n",
              "    .colab-df-container {\n",
              "      display:flex;\n",
              "      gap: 12px;\n",
              "    }\n",
              "\n",
              "    .colab-df-convert {\n",
              "      background-color: #E8F0FE;\n",
              "      border: none;\n",
              "      border-radius: 50%;\n",
              "      cursor: pointer;\n",
              "      display: none;\n",
              "      fill: #1967D2;\n",
              "      height: 32px;\n",
              "      padding: 0 0 0 0;\n",
              "      width: 32px;\n",
              "    }\n",
              "\n",
              "    .colab-df-convert:hover {\n",
              "      background-color: #E2EBFA;\n",
              "      box-shadow: 0px 1px 2px rgba(60, 64, 67, 0.3), 0px 1px 3px 1px rgba(60, 64, 67, 0.15);\n",
              "      fill: #174EA6;\n",
              "    }\n",
              "\n",
              "    .colab-df-buttons div {\n",
              "      margin-bottom: 4px;\n",
              "    }\n",
              "\n",
              "    [theme=dark] .colab-df-convert {\n",
              "      background-color: #3B4455;\n",
              "      fill: #D2E3FC;\n",
              "    }\n",
              "\n",
              "    [theme=dark] .colab-df-convert:hover {\n",
              "      background-color: #434B5C;\n",
              "      box-shadow: 0px 1px 3px 1px rgba(0, 0, 0, 0.15);\n",
              "      filter: drop-shadow(0px 1px 2px rgba(0, 0, 0, 0.3));\n",
              "      fill: #FFFFFF;\n",
              "    }\n",
              "  </style>\n",
              "\n",
              "    <script>\n",
              "      const buttonEl =\n",
              "        document.querySelector('#df-16a1e88a-6afc-4105-877b-dda4ca730e98 button.colab-df-convert');\n",
              "      buttonEl.style.display =\n",
              "        google.colab.kernel.accessAllowed ? 'block' : 'none';\n",
              "\n",
              "      async function convertToInteractive(key) {\n",
              "        const element = document.querySelector('#df-16a1e88a-6afc-4105-877b-dda4ca730e98');\n",
              "        const dataTable =\n",
              "          await google.colab.kernel.invokeFunction('convertToInteractive',\n",
              "                                                    [key], {});\n",
              "        if (!dataTable) return;\n",
              "\n",
              "        const docLinkHtml = 'Like what you see? Visit the ' +\n",
              "          '<a target=\"_blank\" href=https://colab.research.google.com/notebooks/data_table.ipynb>data table notebook</a>'\n",
              "          + ' to learn more about interactive tables.';\n",
              "        element.innerHTML = '';\n",
              "        dataTable['output_type'] = 'display_data';\n",
              "        await google.colab.output.renderOutput(dataTable, element);\n",
              "        const docLink = document.createElement('div');\n",
              "        docLink.innerHTML = docLinkHtml;\n",
              "        element.appendChild(docLink);\n",
              "      }\n",
              "    </script>\n",
              "  </div>\n",
              "\n",
              "\n",
              "    <div id=\"df-42b4da75-3f25-4447-ace1-fac2700c0f4f\">\n",
              "      <button class=\"colab-df-quickchart\" onclick=\"quickchart('df-42b4da75-3f25-4447-ace1-fac2700c0f4f')\"\n",
              "                title=\"Suggest charts\"\n",
              "                style=\"display:none;\">\n",
              "\n",
              "<svg xmlns=\"http://www.w3.org/2000/svg\" height=\"24px\"viewBox=\"0 0 24 24\"\n",
              "     width=\"24px\">\n",
              "    <g>\n",
              "        <path d=\"M19 3H5c-1.1 0-2 .9-2 2v14c0 1.1.9 2 2 2h14c1.1 0 2-.9 2-2V5c0-1.1-.9-2-2-2zM9 17H7v-7h2v7zm4 0h-2V7h2v10zm4 0h-2v-4h2v4z\"/>\n",
              "    </g>\n",
              "</svg>\n",
              "      </button>\n",
              "\n",
              "<style>\n",
              "  .colab-df-quickchart {\n",
              "      --bg-color: #E8F0FE;\n",
              "      --fill-color: #1967D2;\n",
              "      --hover-bg-color: #E2EBFA;\n",
              "      --hover-fill-color: #174EA6;\n",
              "      --disabled-fill-color: #AAA;\n",
              "      --disabled-bg-color: #DDD;\n",
              "  }\n",
              "\n",
              "  [theme=dark] .colab-df-quickchart {\n",
              "      --bg-color: #3B4455;\n",
              "      --fill-color: #D2E3FC;\n",
              "      --hover-bg-color: #434B5C;\n",
              "      --hover-fill-color: #FFFFFF;\n",
              "      --disabled-bg-color: #3B4455;\n",
              "      --disabled-fill-color: #666;\n",
              "  }\n",
              "\n",
              "  .colab-df-quickchart {\n",
              "    background-color: var(--bg-color);\n",
              "    border: none;\n",
              "    border-radius: 50%;\n",
              "    cursor: pointer;\n",
              "    display: none;\n",
              "    fill: var(--fill-color);\n",
              "    height: 32px;\n",
              "    padding: 0;\n",
              "    width: 32px;\n",
              "  }\n",
              "\n",
              "  .colab-df-quickchart:hover {\n",
              "    background-color: var(--hover-bg-color);\n",
              "    box-shadow: 0 1px 2px rgba(60, 64, 67, 0.3), 0 1px 3px 1px rgba(60, 64, 67, 0.15);\n",
              "    fill: var(--button-hover-fill-color);\n",
              "  }\n",
              "\n",
              "  .colab-df-quickchart-complete:disabled,\n",
              "  .colab-df-quickchart-complete:disabled:hover {\n",
              "    background-color: var(--disabled-bg-color);\n",
              "    fill: var(--disabled-fill-color);\n",
              "    box-shadow: none;\n",
              "  }\n",
              "\n",
              "  .colab-df-spinner {\n",
              "    border: 2px solid var(--fill-color);\n",
              "    border-color: transparent;\n",
              "    border-bottom-color: var(--fill-color);\n",
              "    animation:\n",
              "      spin 1s steps(1) infinite;\n",
              "  }\n",
              "\n",
              "  @keyframes spin {\n",
              "    0% {\n",
              "      border-color: transparent;\n",
              "      border-bottom-color: var(--fill-color);\n",
              "      border-left-color: var(--fill-color);\n",
              "    }\n",
              "    20% {\n",
              "      border-color: transparent;\n",
              "      border-left-color: var(--fill-color);\n",
              "      border-top-color: var(--fill-color);\n",
              "    }\n",
              "    30% {\n",
              "      border-color: transparent;\n",
              "      border-left-color: var(--fill-color);\n",
              "      border-top-color: var(--fill-color);\n",
              "      border-right-color: var(--fill-color);\n",
              "    }\n",
              "    40% {\n",
              "      border-color: transparent;\n",
              "      border-right-color: var(--fill-color);\n",
              "      border-top-color: var(--fill-color);\n",
              "    }\n",
              "    60% {\n",
              "      border-color: transparent;\n",
              "      border-right-color: var(--fill-color);\n",
              "    }\n",
              "    80% {\n",
              "      border-color: transparent;\n",
              "      border-right-color: var(--fill-color);\n",
              "      border-bottom-color: var(--fill-color);\n",
              "    }\n",
              "    90% {\n",
              "      border-color: transparent;\n",
              "      border-bottom-color: var(--fill-color);\n",
              "    }\n",
              "  }\n",
              "</style>\n",
              "\n",
              "      <script>\n",
              "        async function quickchart(key) {\n",
              "          const quickchartButtonEl =\n",
              "            document.querySelector('#' + key + ' button');\n",
              "          quickchartButtonEl.disabled = true;  // To prevent multiple clicks.\n",
              "          quickchartButtonEl.classList.add('colab-df-spinner');\n",
              "          try {\n",
              "            const charts = await google.colab.kernel.invokeFunction(\n",
              "                'suggestCharts', [key], {});\n",
              "          } catch (error) {\n",
              "            console.error('Error during call to suggestCharts:', error);\n",
              "          }\n",
              "          quickchartButtonEl.classList.remove('colab-df-spinner');\n",
              "          quickchartButtonEl.classList.add('colab-df-quickchart-complete');\n",
              "        }\n",
              "        (() => {\n",
              "          let quickchartButtonEl =\n",
              "            document.querySelector('#df-42b4da75-3f25-4447-ace1-fac2700c0f4f button');\n",
              "          quickchartButtonEl.style.display =\n",
              "            google.colab.kernel.accessAllowed ? 'block' : 'none';\n",
              "        })();\n",
              "      </script>\n",
              "    </div>\n",
              "\n",
              "    </div>\n",
              "  </div>\n"
            ],
            "application/vnd.google.colaboratory.intrinsic+json": {
              "type": "dataframe",
              "variable_name": "df"
            }
          },
          "metadata": {},
          "execution_count": 2
        }
      ]
    },
    {
      "cell_type": "markdown",
      "source": [
        "# Initial Data Exploration"
      ],
      "metadata": {
        "id": "nsiaVY_Nkbjn"
      }
    },
    {
      "cell_type": "code",
      "source": [
        "# Shape of the dataset\n",
        "print(f'Dataset contains {df.shape[0]} rows and {df.shape[1]} columns. \\n')\n",
        "\n",
        "# Info about the dataset\n",
        "print('Data Types and Nulls:')\n",
        "df.info()\n",
        "\n",
        "# Check for missing values\n",
        "print('\\nMissing values:')\n",
        "print(df.isnull().sum())\n",
        "\n",
        "# Descriptive statistics\n",
        "print('\\nStatistical summary:')\n",
        "df.describe().T"
      ],
      "metadata": {
        "colab": {
          "base_uri": "https://localhost:8080/",
          "height": 1000
        },
        "id": "lMXhtBA7kiHO",
        "outputId": "b28876af-9ad7-4dee-9bc3-94a5db23be8a"
      },
      "execution_count": 3,
      "outputs": [
        {
          "output_type": "stream",
          "name": "stdout",
          "text": [
            "Dataset contains 21613 rows and 22 columns. \n",
            "\n",
            "Data Types and Nulls:\n",
            "<class 'pandas.core.frame.DataFrame'>\n",
            "RangeIndex: 21613 entries, 0 to 21612\n",
            "Data columns (total 22 columns):\n",
            " #   Column         Non-Null Count  Dtype  \n",
            "---  ------         --------------  -----  \n",
            " 0   Unnamed: 0     21613 non-null  int64  \n",
            " 1   id             21613 non-null  int64  \n",
            " 2   date           21613 non-null  object \n",
            " 3   price          21613 non-null  float64\n",
            " 4   bedrooms       21600 non-null  float64\n",
            " 5   bathrooms      21603 non-null  float64\n",
            " 6   sqft_living    21613 non-null  int64  \n",
            " 7   sqft_lot       21613 non-null  int64  \n",
            " 8   floors         21613 non-null  float64\n",
            " 9   waterfront     21613 non-null  int64  \n",
            " 10  view           21613 non-null  int64  \n",
            " 11  condition      21613 non-null  int64  \n",
            " 12  grade          21613 non-null  int64  \n",
            " 13  sqft_above     21613 non-null  int64  \n",
            " 14  sqft_basement  21613 non-null  int64  \n",
            " 15  yr_built       21613 non-null  int64  \n",
            " 16  yr_renovated   21613 non-null  int64  \n",
            " 17  zipcode        21613 non-null  int64  \n",
            " 18  lat            21613 non-null  float64\n",
            " 19  long           21613 non-null  float64\n",
            " 20  sqft_living15  21613 non-null  int64  \n",
            " 21  sqft_lot15     21613 non-null  int64  \n",
            "dtypes: float64(6), int64(15), object(1)\n",
            "memory usage: 3.6+ MB\n",
            "\n",
            "Missing values:\n",
            "Unnamed: 0        0\n",
            "id                0\n",
            "date              0\n",
            "price             0\n",
            "bedrooms         13\n",
            "bathrooms        10\n",
            "sqft_living       0\n",
            "sqft_lot          0\n",
            "floors            0\n",
            "waterfront        0\n",
            "view              0\n",
            "condition         0\n",
            "grade             0\n",
            "sqft_above        0\n",
            "sqft_basement     0\n",
            "yr_built          0\n",
            "yr_renovated      0\n",
            "zipcode           0\n",
            "lat               0\n",
            "long              0\n",
            "sqft_living15     0\n",
            "sqft_lot15        0\n",
            "dtype: int64\n",
            "\n",
            "Statistical summary:\n"
          ]
        },
        {
          "output_type": "execute_result",
          "data": {
            "text/plain": [
              "                 count          mean           std           min  \\\n",
              "Unnamed: 0     21613.0  1.080600e+04  6.239280e+03  0.000000e+00   \n",
              "id             21613.0  4.580302e+09  2.876566e+09  1.000102e+06   \n",
              "price          21613.0  5.400881e+05  3.671272e+05  7.500000e+04   \n",
              "bedrooms       21600.0  3.372870e+00  9.266567e-01  1.000000e+00   \n",
              "bathrooms      21603.0  2.115736e+00  7.689959e-01  5.000000e-01   \n",
              "sqft_living    21613.0  2.079900e+03  9.184409e+02  2.900000e+02   \n",
              "sqft_lot       21613.0  1.510697e+04  4.142051e+04  5.200000e+02   \n",
              "floors         21613.0  1.494309e+00  5.399889e-01  1.000000e+00   \n",
              "waterfront     21613.0  7.541757e-03  8.651720e-02  0.000000e+00   \n",
              "view           21613.0  2.343034e-01  7.663176e-01  0.000000e+00   \n",
              "condition      21613.0  3.409430e+00  6.507430e-01  1.000000e+00   \n",
              "grade          21613.0  7.656873e+00  1.175459e+00  1.000000e+00   \n",
              "sqft_above     21613.0  1.788391e+03  8.280910e+02  2.900000e+02   \n",
              "sqft_basement  21613.0  2.915090e+02  4.425750e+02  0.000000e+00   \n",
              "yr_built       21613.0  1.971005e+03  2.937341e+01  1.900000e+03   \n",
              "yr_renovated   21613.0  8.440226e+01  4.016792e+02  0.000000e+00   \n",
              "zipcode        21613.0  9.807794e+04  5.350503e+01  9.800100e+04   \n",
              "lat            21613.0  4.756005e+01  1.385637e-01  4.715590e+01   \n",
              "long           21613.0 -1.222139e+02  1.408283e-01 -1.225190e+02   \n",
              "sqft_living15  21613.0  1.986552e+03  6.853913e+02  3.990000e+02   \n",
              "sqft_lot15     21613.0  1.276846e+04  2.730418e+04  6.510000e+02   \n",
              "\n",
              "                        25%           50%           75%           max  \n",
              "Unnamed: 0     5.403000e+03  1.080600e+04  1.620900e+04  2.161200e+04  \n",
              "id             2.123049e+09  3.904930e+09  7.308900e+09  9.900000e+09  \n",
              "price          3.219500e+05  4.500000e+05  6.450000e+05  7.700000e+06  \n",
              "bedrooms       3.000000e+00  3.000000e+00  4.000000e+00  3.300000e+01  \n",
              "bathrooms      1.750000e+00  2.250000e+00  2.500000e+00  8.000000e+00  \n",
              "sqft_living    1.427000e+03  1.910000e+03  2.550000e+03  1.354000e+04  \n",
              "sqft_lot       5.040000e+03  7.618000e+03  1.068800e+04  1.651359e+06  \n",
              "floors         1.000000e+00  1.500000e+00  2.000000e+00  3.500000e+00  \n",
              "waterfront     0.000000e+00  0.000000e+00  0.000000e+00  1.000000e+00  \n",
              "view           0.000000e+00  0.000000e+00  0.000000e+00  4.000000e+00  \n",
              "condition      3.000000e+00  3.000000e+00  4.000000e+00  5.000000e+00  \n",
              "grade          7.000000e+00  7.000000e+00  8.000000e+00  1.300000e+01  \n",
              "sqft_above     1.190000e+03  1.560000e+03  2.210000e+03  9.410000e+03  \n",
              "sqft_basement  0.000000e+00  0.000000e+00  5.600000e+02  4.820000e+03  \n",
              "yr_built       1.951000e+03  1.975000e+03  1.997000e+03  2.015000e+03  \n",
              "yr_renovated   0.000000e+00  0.000000e+00  0.000000e+00  2.015000e+03  \n",
              "zipcode        9.803300e+04  9.806500e+04  9.811800e+04  9.819900e+04  \n",
              "lat            4.747100e+01  4.757180e+01  4.767800e+01  4.777760e+01  \n",
              "long          -1.223280e+02 -1.222300e+02 -1.221250e+02 -1.213150e+02  \n",
              "sqft_living15  1.490000e+03  1.840000e+03  2.360000e+03  6.210000e+03  \n",
              "sqft_lot15     5.100000e+03  7.620000e+03  1.008300e+04  8.712000e+05  "
            ],
            "text/html": [
              "\n",
              "  <div id=\"df-40201dbd-c820-4817-8268-d2285bf76a58\" class=\"colab-df-container\">\n",
              "    <div>\n",
              "<style scoped>\n",
              "    .dataframe tbody tr th:only-of-type {\n",
              "        vertical-align: middle;\n",
              "    }\n",
              "\n",
              "    .dataframe tbody tr th {\n",
              "        vertical-align: top;\n",
              "    }\n",
              "\n",
              "    .dataframe thead th {\n",
              "        text-align: right;\n",
              "    }\n",
              "</style>\n",
              "<table border=\"1\" class=\"dataframe\">\n",
              "  <thead>\n",
              "    <tr style=\"text-align: right;\">\n",
              "      <th></th>\n",
              "      <th>count</th>\n",
              "      <th>mean</th>\n",
              "      <th>std</th>\n",
              "      <th>min</th>\n",
              "      <th>25%</th>\n",
              "      <th>50%</th>\n",
              "      <th>75%</th>\n",
              "      <th>max</th>\n",
              "    </tr>\n",
              "  </thead>\n",
              "  <tbody>\n",
              "    <tr>\n",
              "      <th>Unnamed: 0</th>\n",
              "      <td>21613.0</td>\n",
              "      <td>1.080600e+04</td>\n",
              "      <td>6.239280e+03</td>\n",
              "      <td>0.000000e+00</td>\n",
              "      <td>5.403000e+03</td>\n",
              "      <td>1.080600e+04</td>\n",
              "      <td>1.620900e+04</td>\n",
              "      <td>2.161200e+04</td>\n",
              "    </tr>\n",
              "    <tr>\n",
              "      <th>id</th>\n",
              "      <td>21613.0</td>\n",
              "      <td>4.580302e+09</td>\n",
              "      <td>2.876566e+09</td>\n",
              "      <td>1.000102e+06</td>\n",
              "      <td>2.123049e+09</td>\n",
              "      <td>3.904930e+09</td>\n",
              "      <td>7.308900e+09</td>\n",
              "      <td>9.900000e+09</td>\n",
              "    </tr>\n",
              "    <tr>\n",
              "      <th>price</th>\n",
              "      <td>21613.0</td>\n",
              "      <td>5.400881e+05</td>\n",
              "      <td>3.671272e+05</td>\n",
              "      <td>7.500000e+04</td>\n",
              "      <td>3.219500e+05</td>\n",
              "      <td>4.500000e+05</td>\n",
              "      <td>6.450000e+05</td>\n",
              "      <td>7.700000e+06</td>\n",
              "    </tr>\n",
              "    <tr>\n",
              "      <th>bedrooms</th>\n",
              "      <td>21600.0</td>\n",
              "      <td>3.372870e+00</td>\n",
              "      <td>9.266567e-01</td>\n",
              "      <td>1.000000e+00</td>\n",
              "      <td>3.000000e+00</td>\n",
              "      <td>3.000000e+00</td>\n",
              "      <td>4.000000e+00</td>\n",
              "      <td>3.300000e+01</td>\n",
              "    </tr>\n",
              "    <tr>\n",
              "      <th>bathrooms</th>\n",
              "      <td>21603.0</td>\n",
              "      <td>2.115736e+00</td>\n",
              "      <td>7.689959e-01</td>\n",
              "      <td>5.000000e-01</td>\n",
              "      <td>1.750000e+00</td>\n",
              "      <td>2.250000e+00</td>\n",
              "      <td>2.500000e+00</td>\n",
              "      <td>8.000000e+00</td>\n",
              "    </tr>\n",
              "    <tr>\n",
              "      <th>sqft_living</th>\n",
              "      <td>21613.0</td>\n",
              "      <td>2.079900e+03</td>\n",
              "      <td>9.184409e+02</td>\n",
              "      <td>2.900000e+02</td>\n",
              "      <td>1.427000e+03</td>\n",
              "      <td>1.910000e+03</td>\n",
              "      <td>2.550000e+03</td>\n",
              "      <td>1.354000e+04</td>\n",
              "    </tr>\n",
              "    <tr>\n",
              "      <th>sqft_lot</th>\n",
              "      <td>21613.0</td>\n",
              "      <td>1.510697e+04</td>\n",
              "      <td>4.142051e+04</td>\n",
              "      <td>5.200000e+02</td>\n",
              "      <td>5.040000e+03</td>\n",
              "      <td>7.618000e+03</td>\n",
              "      <td>1.068800e+04</td>\n",
              "      <td>1.651359e+06</td>\n",
              "    </tr>\n",
              "    <tr>\n",
              "      <th>floors</th>\n",
              "      <td>21613.0</td>\n",
              "      <td>1.494309e+00</td>\n",
              "      <td>5.399889e-01</td>\n",
              "      <td>1.000000e+00</td>\n",
              "      <td>1.000000e+00</td>\n",
              "      <td>1.500000e+00</td>\n",
              "      <td>2.000000e+00</td>\n",
              "      <td>3.500000e+00</td>\n",
              "    </tr>\n",
              "    <tr>\n",
              "      <th>waterfront</th>\n",
              "      <td>21613.0</td>\n",
              "      <td>7.541757e-03</td>\n",
              "      <td>8.651720e-02</td>\n",
              "      <td>0.000000e+00</td>\n",
              "      <td>0.000000e+00</td>\n",
              "      <td>0.000000e+00</td>\n",
              "      <td>0.000000e+00</td>\n",
              "      <td>1.000000e+00</td>\n",
              "    </tr>\n",
              "    <tr>\n",
              "      <th>view</th>\n",
              "      <td>21613.0</td>\n",
              "      <td>2.343034e-01</td>\n",
              "      <td>7.663176e-01</td>\n",
              "      <td>0.000000e+00</td>\n",
              "      <td>0.000000e+00</td>\n",
              "      <td>0.000000e+00</td>\n",
              "      <td>0.000000e+00</td>\n",
              "      <td>4.000000e+00</td>\n",
              "    </tr>\n",
              "    <tr>\n",
              "      <th>condition</th>\n",
              "      <td>21613.0</td>\n",
              "      <td>3.409430e+00</td>\n",
              "      <td>6.507430e-01</td>\n",
              "      <td>1.000000e+00</td>\n",
              "      <td>3.000000e+00</td>\n",
              "      <td>3.000000e+00</td>\n",
              "      <td>4.000000e+00</td>\n",
              "      <td>5.000000e+00</td>\n",
              "    </tr>\n",
              "    <tr>\n",
              "      <th>grade</th>\n",
              "      <td>21613.0</td>\n",
              "      <td>7.656873e+00</td>\n",
              "      <td>1.175459e+00</td>\n",
              "      <td>1.000000e+00</td>\n",
              "      <td>7.000000e+00</td>\n",
              "      <td>7.000000e+00</td>\n",
              "      <td>8.000000e+00</td>\n",
              "      <td>1.300000e+01</td>\n",
              "    </tr>\n",
              "    <tr>\n",
              "      <th>sqft_above</th>\n",
              "      <td>21613.0</td>\n",
              "      <td>1.788391e+03</td>\n",
              "      <td>8.280910e+02</td>\n",
              "      <td>2.900000e+02</td>\n",
              "      <td>1.190000e+03</td>\n",
              "      <td>1.560000e+03</td>\n",
              "      <td>2.210000e+03</td>\n",
              "      <td>9.410000e+03</td>\n",
              "    </tr>\n",
              "    <tr>\n",
              "      <th>sqft_basement</th>\n",
              "      <td>21613.0</td>\n",
              "      <td>2.915090e+02</td>\n",
              "      <td>4.425750e+02</td>\n",
              "      <td>0.000000e+00</td>\n",
              "      <td>0.000000e+00</td>\n",
              "      <td>0.000000e+00</td>\n",
              "      <td>5.600000e+02</td>\n",
              "      <td>4.820000e+03</td>\n",
              "    </tr>\n",
              "    <tr>\n",
              "      <th>yr_built</th>\n",
              "      <td>21613.0</td>\n",
              "      <td>1.971005e+03</td>\n",
              "      <td>2.937341e+01</td>\n",
              "      <td>1.900000e+03</td>\n",
              "      <td>1.951000e+03</td>\n",
              "      <td>1.975000e+03</td>\n",
              "      <td>1.997000e+03</td>\n",
              "      <td>2.015000e+03</td>\n",
              "    </tr>\n",
              "    <tr>\n",
              "      <th>yr_renovated</th>\n",
              "      <td>21613.0</td>\n",
              "      <td>8.440226e+01</td>\n",
              "      <td>4.016792e+02</td>\n",
              "      <td>0.000000e+00</td>\n",
              "      <td>0.000000e+00</td>\n",
              "      <td>0.000000e+00</td>\n",
              "      <td>0.000000e+00</td>\n",
              "      <td>2.015000e+03</td>\n",
              "    </tr>\n",
              "    <tr>\n",
              "      <th>zipcode</th>\n",
              "      <td>21613.0</td>\n",
              "      <td>9.807794e+04</td>\n",
              "      <td>5.350503e+01</td>\n",
              "      <td>9.800100e+04</td>\n",
              "      <td>9.803300e+04</td>\n",
              "      <td>9.806500e+04</td>\n",
              "      <td>9.811800e+04</td>\n",
              "      <td>9.819900e+04</td>\n",
              "    </tr>\n",
              "    <tr>\n",
              "      <th>lat</th>\n",
              "      <td>21613.0</td>\n",
              "      <td>4.756005e+01</td>\n",
              "      <td>1.385637e-01</td>\n",
              "      <td>4.715590e+01</td>\n",
              "      <td>4.747100e+01</td>\n",
              "      <td>4.757180e+01</td>\n",
              "      <td>4.767800e+01</td>\n",
              "      <td>4.777760e+01</td>\n",
              "    </tr>\n",
              "    <tr>\n",
              "      <th>long</th>\n",
              "      <td>21613.0</td>\n",
              "      <td>-1.222139e+02</td>\n",
              "      <td>1.408283e-01</td>\n",
              "      <td>-1.225190e+02</td>\n",
              "      <td>-1.223280e+02</td>\n",
              "      <td>-1.222300e+02</td>\n",
              "      <td>-1.221250e+02</td>\n",
              "      <td>-1.213150e+02</td>\n",
              "    </tr>\n",
              "    <tr>\n",
              "      <th>sqft_living15</th>\n",
              "      <td>21613.0</td>\n",
              "      <td>1.986552e+03</td>\n",
              "      <td>6.853913e+02</td>\n",
              "      <td>3.990000e+02</td>\n",
              "      <td>1.490000e+03</td>\n",
              "      <td>1.840000e+03</td>\n",
              "      <td>2.360000e+03</td>\n",
              "      <td>6.210000e+03</td>\n",
              "    </tr>\n",
              "    <tr>\n",
              "      <th>sqft_lot15</th>\n",
              "      <td>21613.0</td>\n",
              "      <td>1.276846e+04</td>\n",
              "      <td>2.730418e+04</td>\n",
              "      <td>6.510000e+02</td>\n",
              "      <td>5.100000e+03</td>\n",
              "      <td>7.620000e+03</td>\n",
              "      <td>1.008300e+04</td>\n",
              "      <td>8.712000e+05</td>\n",
              "    </tr>\n",
              "  </tbody>\n",
              "</table>\n",
              "</div>\n",
              "    <div class=\"colab-df-buttons\">\n",
              "\n",
              "  <div class=\"colab-df-container\">\n",
              "    <button class=\"colab-df-convert\" onclick=\"convertToInteractive('df-40201dbd-c820-4817-8268-d2285bf76a58')\"\n",
              "            title=\"Convert this dataframe to an interactive table.\"\n",
              "            style=\"display:none;\">\n",
              "\n",
              "  <svg xmlns=\"http://www.w3.org/2000/svg\" height=\"24px\" viewBox=\"0 -960 960 960\">\n",
              "    <path d=\"M120-120v-720h720v720H120Zm60-500h600v-160H180v160Zm220 220h160v-160H400v160Zm0 220h160v-160H400v160ZM180-400h160v-160H180v160Zm440 0h160v-160H620v160ZM180-180h160v-160H180v160Zm440 0h160v-160H620v160Z\"/>\n",
              "  </svg>\n",
              "    </button>\n",
              "\n",
              "  <style>\n",
              "    .colab-df-container {\n",
              "      display:flex;\n",
              "      gap: 12px;\n",
              "    }\n",
              "\n",
              "    .colab-df-convert {\n",
              "      background-color: #E8F0FE;\n",
              "      border: none;\n",
              "      border-radius: 50%;\n",
              "      cursor: pointer;\n",
              "      display: none;\n",
              "      fill: #1967D2;\n",
              "      height: 32px;\n",
              "      padding: 0 0 0 0;\n",
              "      width: 32px;\n",
              "    }\n",
              "\n",
              "    .colab-df-convert:hover {\n",
              "      background-color: #E2EBFA;\n",
              "      box-shadow: 0px 1px 2px rgba(60, 64, 67, 0.3), 0px 1px 3px 1px rgba(60, 64, 67, 0.15);\n",
              "      fill: #174EA6;\n",
              "    }\n",
              "\n",
              "    .colab-df-buttons div {\n",
              "      margin-bottom: 4px;\n",
              "    }\n",
              "\n",
              "    [theme=dark] .colab-df-convert {\n",
              "      background-color: #3B4455;\n",
              "      fill: #D2E3FC;\n",
              "    }\n",
              "\n",
              "    [theme=dark] .colab-df-convert:hover {\n",
              "      background-color: #434B5C;\n",
              "      box-shadow: 0px 1px 3px 1px rgba(0, 0, 0, 0.15);\n",
              "      filter: drop-shadow(0px 1px 2px rgba(0, 0, 0, 0.3));\n",
              "      fill: #FFFFFF;\n",
              "    }\n",
              "  </style>\n",
              "\n",
              "    <script>\n",
              "      const buttonEl =\n",
              "        document.querySelector('#df-40201dbd-c820-4817-8268-d2285bf76a58 button.colab-df-convert');\n",
              "      buttonEl.style.display =\n",
              "        google.colab.kernel.accessAllowed ? 'block' : 'none';\n",
              "\n",
              "      async function convertToInteractive(key) {\n",
              "        const element = document.querySelector('#df-40201dbd-c820-4817-8268-d2285bf76a58');\n",
              "        const dataTable =\n",
              "          await google.colab.kernel.invokeFunction('convertToInteractive',\n",
              "                                                    [key], {});\n",
              "        if (!dataTable) return;\n",
              "\n",
              "        const docLinkHtml = 'Like what you see? Visit the ' +\n",
              "          '<a target=\"_blank\" href=https://colab.research.google.com/notebooks/data_table.ipynb>data table notebook</a>'\n",
              "          + ' to learn more about interactive tables.';\n",
              "        element.innerHTML = '';\n",
              "        dataTable['output_type'] = 'display_data';\n",
              "        await google.colab.output.renderOutput(dataTable, element);\n",
              "        const docLink = document.createElement('div');\n",
              "        docLink.innerHTML = docLinkHtml;\n",
              "        element.appendChild(docLink);\n",
              "      }\n",
              "    </script>\n",
              "  </div>\n",
              "\n",
              "\n",
              "    <div id=\"df-33c3ab7b-527f-49fd-8c4d-a77dae36d07b\">\n",
              "      <button class=\"colab-df-quickchart\" onclick=\"quickchart('df-33c3ab7b-527f-49fd-8c4d-a77dae36d07b')\"\n",
              "                title=\"Suggest charts\"\n",
              "                style=\"display:none;\">\n",
              "\n",
              "<svg xmlns=\"http://www.w3.org/2000/svg\" height=\"24px\"viewBox=\"0 0 24 24\"\n",
              "     width=\"24px\">\n",
              "    <g>\n",
              "        <path d=\"M19 3H5c-1.1 0-2 .9-2 2v14c0 1.1.9 2 2 2h14c1.1 0 2-.9 2-2V5c0-1.1-.9-2-2-2zM9 17H7v-7h2v7zm4 0h-2V7h2v10zm4 0h-2v-4h2v4z\"/>\n",
              "    </g>\n",
              "</svg>\n",
              "      </button>\n",
              "\n",
              "<style>\n",
              "  .colab-df-quickchart {\n",
              "      --bg-color: #E8F0FE;\n",
              "      --fill-color: #1967D2;\n",
              "      --hover-bg-color: #E2EBFA;\n",
              "      --hover-fill-color: #174EA6;\n",
              "      --disabled-fill-color: #AAA;\n",
              "      --disabled-bg-color: #DDD;\n",
              "  }\n",
              "\n",
              "  [theme=dark] .colab-df-quickchart {\n",
              "      --bg-color: #3B4455;\n",
              "      --fill-color: #D2E3FC;\n",
              "      --hover-bg-color: #434B5C;\n",
              "      --hover-fill-color: #FFFFFF;\n",
              "      --disabled-bg-color: #3B4455;\n",
              "      --disabled-fill-color: #666;\n",
              "  }\n",
              "\n",
              "  .colab-df-quickchart {\n",
              "    background-color: var(--bg-color);\n",
              "    border: none;\n",
              "    border-radius: 50%;\n",
              "    cursor: pointer;\n",
              "    display: none;\n",
              "    fill: var(--fill-color);\n",
              "    height: 32px;\n",
              "    padding: 0;\n",
              "    width: 32px;\n",
              "  }\n",
              "\n",
              "  .colab-df-quickchart:hover {\n",
              "    background-color: var(--hover-bg-color);\n",
              "    box-shadow: 0 1px 2px rgba(60, 64, 67, 0.3), 0 1px 3px 1px rgba(60, 64, 67, 0.15);\n",
              "    fill: var(--button-hover-fill-color);\n",
              "  }\n",
              "\n",
              "  .colab-df-quickchart-complete:disabled,\n",
              "  .colab-df-quickchart-complete:disabled:hover {\n",
              "    background-color: var(--disabled-bg-color);\n",
              "    fill: var(--disabled-fill-color);\n",
              "    box-shadow: none;\n",
              "  }\n",
              "\n",
              "  .colab-df-spinner {\n",
              "    border: 2px solid var(--fill-color);\n",
              "    border-color: transparent;\n",
              "    border-bottom-color: var(--fill-color);\n",
              "    animation:\n",
              "      spin 1s steps(1) infinite;\n",
              "  }\n",
              "\n",
              "  @keyframes spin {\n",
              "    0% {\n",
              "      border-color: transparent;\n",
              "      border-bottom-color: var(--fill-color);\n",
              "      border-left-color: var(--fill-color);\n",
              "    }\n",
              "    20% {\n",
              "      border-color: transparent;\n",
              "      border-left-color: var(--fill-color);\n",
              "      border-top-color: var(--fill-color);\n",
              "    }\n",
              "    30% {\n",
              "      border-color: transparent;\n",
              "      border-left-color: var(--fill-color);\n",
              "      border-top-color: var(--fill-color);\n",
              "      border-right-color: var(--fill-color);\n",
              "    }\n",
              "    40% {\n",
              "      border-color: transparent;\n",
              "      border-right-color: var(--fill-color);\n",
              "      border-top-color: var(--fill-color);\n",
              "    }\n",
              "    60% {\n",
              "      border-color: transparent;\n",
              "      border-right-color: var(--fill-color);\n",
              "    }\n",
              "    80% {\n",
              "      border-color: transparent;\n",
              "      border-right-color: var(--fill-color);\n",
              "      border-bottom-color: var(--fill-color);\n",
              "    }\n",
              "    90% {\n",
              "      border-color: transparent;\n",
              "      border-bottom-color: var(--fill-color);\n",
              "    }\n",
              "  }\n",
              "</style>\n",
              "\n",
              "      <script>\n",
              "        async function quickchart(key) {\n",
              "          const quickchartButtonEl =\n",
              "            document.querySelector('#' + key + ' button');\n",
              "          quickchartButtonEl.disabled = true;  // To prevent multiple clicks.\n",
              "          quickchartButtonEl.classList.add('colab-df-spinner');\n",
              "          try {\n",
              "            const charts = await google.colab.kernel.invokeFunction(\n",
              "                'suggestCharts', [key], {});\n",
              "          } catch (error) {\n",
              "            console.error('Error during call to suggestCharts:', error);\n",
              "          }\n",
              "          quickchartButtonEl.classList.remove('colab-df-spinner');\n",
              "          quickchartButtonEl.classList.add('colab-df-quickchart-complete');\n",
              "        }\n",
              "        (() => {\n",
              "          let quickchartButtonEl =\n",
              "            document.querySelector('#df-33c3ab7b-527f-49fd-8c4d-a77dae36d07b button');\n",
              "          quickchartButtonEl.style.display =\n",
              "            google.colab.kernel.accessAllowed ? 'block' : 'none';\n",
              "        })();\n",
              "      </script>\n",
              "    </div>\n",
              "\n",
              "    </div>\n",
              "  </div>\n"
            ],
            "application/vnd.google.colaboratory.intrinsic+json": {
              "type": "dataframe",
              "summary": "{\n  \"name\": \"df\",\n  \"rows\": 21,\n  \"fields\": [\n    {\n      \"column\": \"count\",\n      \"properties\": {\n        \"dtype\": \"number\",\n        \"std\": 3.4914862437758787,\n        \"min\": 21600.0,\n        \"max\": 21613.0,\n        \"num_unique_values\": 3,\n        \"samples\": [\n          21613.0,\n          21600.0,\n          21603.0\n        ],\n        \"semantic_type\": \"\",\n        \"description\": \"\"\n      }\n    },\n    {\n      \"column\": \"mean\",\n      \"properties\": {\n        \"dtype\": \"number\",\n        \"std\": 999496267.6055146,\n        \"min\": -122.21389640494147,\n        \"max\": 4580301520.864988,\n        \"num_unique_values\": 21,\n        \"samples\": [\n          10806.0,\n          47.56005251931708,\n          84.40225790033776\n        ],\n        \"semantic_type\": \"\",\n        \"description\": \"\"\n      }\n    },\n    {\n      \"column\": \"std\",\n      \"properties\": {\n        \"dtype\": \"number\",\n        \"std\": 627713214.8526484,\n        \"min\": 0.0865171977279032,\n        \"max\": 2876565571.312049,\n        \"num_unique_values\": 21,\n        \"samples\": [\n          6239.280019895457,\n          0.13856371024192463,\n          401.6792400190783\n        ],\n        \"semantic_type\": \"\",\n        \"description\": \"\"\n      }\n    },\n    {\n      \"column\": \"min\",\n      \"properties\": {\n        \"dtype\": \"number\",\n        \"std\": 217883.06498557483,\n        \"min\": -122.519,\n        \"max\": 1000102.0,\n        \"num_unique_values\": 13,\n        \"samples\": [\n          399.0,\n          47.1559,\n          0.0\n        ],\n        \"semantic_type\": \"\",\n        \"description\": \"\"\n      }\n    },\n    {\n      \"column\": \"25%\",\n      \"properties\": {\n        \"dtype\": \"number\",\n        \"std\": 463282504.1411921,\n        \"min\": -122.328,\n        \"max\": 2123049194.0,\n        \"num_unique_values\": 17,\n        \"samples\": [\n          5403.0,\n          2123049194.0,\n          1427.0\n        ],\n        \"semantic_type\": \"\",\n        \"description\": \"\"\n      }\n    },\n    {\n      \"column\": \"50%\",\n      \"properties\": {\n        \"dtype\": \"number\",\n        \"std\": 852119338.4264795,\n        \"min\": -122.23,\n        \"max\": 3904930410.0,\n        \"num_unique_values\": 17,\n        \"samples\": [\n          10806.0,\n          3904930410.0,\n          1910.0\n        ],\n        \"semantic_type\": \"\",\n        \"description\": \"\"\n      }\n    },\n    {\n      \"column\": \"75%\",\n      \"properties\": {\n        \"dtype\": \"number\",\n        \"std\": 1594924224.6807346,\n        \"min\": -122.125,\n        \"max\": 7308900445.0,\n        \"num_unique_values\": 18,\n        \"samples\": [\n          16209.0,\n          7308900445.0,\n          0.0\n        ],\n        \"semantic_type\": \"\",\n        \"description\": \"\"\n      }\n    },\n    {\n      \"column\": \"max\",\n      \"properties\": {\n        \"dtype\": \"number\",\n        \"std\": 2160244559.8955097,\n        \"min\": -121.315,\n        \"max\": 9900000190.0,\n        \"num_unique_values\": 20,\n        \"samples\": [\n          21612.0,\n          -121.315,\n          98199.0\n        ],\n        \"semantic_type\": \"\",\n        \"description\": \"\"\n      }\n    }\n  ]\n}"
            }
          },
          "metadata": {},
          "execution_count": 3
        }
      ]
    },
    {
      "cell_type": "markdown",
      "source": [
        "# Summary:\n",
        "-  Dataset contains 21,613 rows and 22 columns.\n",
        "-  There are some missing values in 'bedrooms' (13) and 'bathrooms' (10).\n",
        "-  The 'date' column is object type; we may need to convert it to datetime.\n",
        "-  Unusual values detected:\n",
        "  - Max bedrooms = 33 (likely an outlier).\n",
        "  - Max bathrooms = 8.\n",
        "  - sqft_living goes up to 13,540 — possibly a mansion.\n",
        "\n"
      ],
      "metadata": {
        "id": "SvBwBw8Jm6pX"
      }
    },
    {
      "cell_type": "markdown",
      "source": [
        "\n",
        "\n",
        "---\n",
        "# Data Wrangling\n"
      ],
      "metadata": {
        "id": "afB5RJiTr2JP"
      }
    },
    {
      "cell_type": "code",
      "source": [
        "# Delete unimportant columns\n",
        "df = df.drop(['Unnamed: 0','id'],axis=1)"
      ],
      "metadata": {
        "id": "NP63KmK9sG7R"
      },
      "execution_count": 4,
      "outputs": []
    },
    {
      "cell_type": "code",
      "source": [
        "# Convert 'date' column to datetime type\n",
        "df['date'] = pd.to_datetime(df['date'])"
      ],
      "metadata": {
        "id": "I5ijZ3lrscYI"
      },
      "execution_count": 5,
      "outputs": []
    },
    {
      "cell_type": "code",
      "source": [
        "# Check missing values before handling them.\n",
        "print(df.isnull().sum())"
      ],
      "metadata": {
        "colab": {
          "base_uri": "https://localhost:8080/"
        },
        "id": "0n_MZqyes0og",
        "outputId": "d03cb9e7-ea99-4403-dbb9-d052a738a67e"
      },
      "execution_count": 6,
      "outputs": [
        {
          "output_type": "stream",
          "name": "stdout",
          "text": [
            "date              0\n",
            "price             0\n",
            "bedrooms         13\n",
            "bathrooms        10\n",
            "sqft_living       0\n",
            "sqft_lot          0\n",
            "floors            0\n",
            "waterfront        0\n",
            "view              0\n",
            "condition         0\n",
            "grade             0\n",
            "sqft_above        0\n",
            "sqft_basement     0\n",
            "yr_built          0\n",
            "yr_renovated      0\n",
            "zipcode           0\n",
            "lat               0\n",
            "long              0\n",
            "sqft_living15     0\n",
            "sqft_lot15        0\n",
            "dtype: int64\n"
          ]
        }
      ]
    },
    {
      "cell_type": "code",
      "source": [
        "# Calculate mean for 'bedrooms' and 'bathrooms'\n",
        "mean_bedrooms = df['bedrooms'].mean()\n",
        "mean_bathrooms = df['bathrooms'].mean()"
      ],
      "metadata": {
        "id": "R4Yj2_phtgfS"
      },
      "execution_count": 7,
      "outputs": []
    },
    {
      "cell_type": "code",
      "source": [
        "# Replace missing values with mean using replace() with inplace=True\n",
        "df['bedrooms'] = df['bedrooms'].replace(np.nan, mean_bedrooms)\n",
        "df['bathrooms'] = df['bathrooms'].replace(np.nan, mean_bathrooms)"
      ],
      "metadata": {
        "id": "VtE7sxsZtxA0"
      },
      "execution_count": 8,
      "outputs": []
    },
    {
      "cell_type": "code",
      "source": [
        "# Verify that missing values have been replaced\n",
        "print(\"\\nAfter replacing NaN values:\")\n",
        "print(\"Number of NaN values for 'bedrooms':\",df['bedrooms'].isnull().sum())\n",
        "print(\"Number of NaN values for 'bathrooms':\" ,df['bathrooms'].isnull().sum())"
      ],
      "metadata": {
        "colab": {
          "base_uri": "https://localhost:8080/"
        },
        "id": "mEIX5IUmu4yY",
        "outputId": "d189e522-1e9f-4e1d-cb92-81fd096e83fa"
      },
      "execution_count": 9,
      "outputs": [
        {
          "output_type": "stream",
          "name": "stdout",
          "text": [
            "\n",
            "After replacing NaN values:\n",
            "Number of NaN values for 'bedrooms': 0\n",
            "Number of NaN values for 'bathrooms': 0\n"
          ]
        }
      ]
    },
    {
      "cell_type": "markdown",
      "source": [
        "\n",
        "\n",
        "---\n",
        "\n",
        "# Exploratory Data Analysis"
      ],
      "metadata": {
        "id": "3DDWjrn3AP6c"
      }
    },
    {
      "cell_type": "code",
      "source": [
        "# Count the number of houses with each unique floor value and convert to DataFrame\n",
        "floor_counts = df['floors'].value_counts().to_frame()\n",
        "print(floor_counts)"
      ],
      "metadata": {
        "colab": {
          "base_uri": "https://localhost:8080/"
        },
        "id": "RY4CKaX2BFFC",
        "outputId": "10263184-e69c-45e4-8f5c-b5c640195b6c"
      },
      "execution_count": 10,
      "outputs": [
        {
          "output_type": "stream",
          "name": "stdout",
          "text": [
            "        count\n",
            "floors       \n",
            "1.0     10680\n",
            "2.0      8241\n",
            "1.5      1910\n",
            "3.0       613\n",
            "2.5       161\n",
            "3.5         8\n"
          ]
        }
      ]
    },
    {
      "cell_type": "markdown",
      "source": [
        "Most houses have 1.0 or 2.0 floors.\n",
        "\n",
        "Very few houses have unusual floor values like 3.5, which may be rare designs or potential data entry inconsistencies.\n",
        "\n"
      ],
      "metadata": {
        "id": "ttBImsbzUFjE"
      }
    },
    {
      "cell_type": "code",
      "source": [
        "# Boxplot for waterfront view vs price outliers\n",
        "plt.figure(figsize=(8,6))\n",
        "sns.boxplot(x='waterfront', y='price', data=df)\n",
        "plt.title('Boxplot of Price by Waterfront View')\n",
        "plt.xlabel('Waterfront (1 = Yes, 0 = No)')\n",
        "plt.ylabel('Price')\n",
        "plt.show()"
      ],
      "metadata": {
        "colab": {
          "base_uri": "https://localhost:8080/",
          "height": 564
        },
        "id": "-cja-CTJUKJV",
        "outputId": "18af6723-65c8-4d4a-cdcb-608449a11b7e"
      },
      "execution_count": 11,
      "outputs": [
        {
          "output_type": "display_data",
          "data": {
            "text/plain": [
              "<Figure size 800x600 with 1 Axes>"
            ],
            "image/png": "[encoded data removed]"
          },
          "metadata": {}
        }
      ]
    },
    {
      "cell_type": "markdown",
      "source": [
        "Properties with a waterfront (waterfront = 1) tend to have significantly higher prices\n",
        "\n",
        "and a higher median compared to those without a waterfront view (waterfront = 0).\n",
        "\n",
        "The plot also shows that both categories have several high-price outliers,"
      ],
      "metadata": {
        "id": "mL20MdbVVyDi"
      }
    },
    {
      "cell_type": "code",
      "source": [
        "# Regplot for sqft_above vs price\n",
        "plt.figure(figsize=(8,6))\n",
        "sns.regplot(x='sqft_above',y='price',data=df,scatter_kws={'alpha':0.5},line_kws={'color':'red'})\n",
        "plt.title('Relationship between sqft_above and price')\n",
        "plt.xlabel('Square Footage Above Ground')\n",
        "plt.ylabel('Price')\n",
        "plt.show()"
      ],
      "metadata": {
        "colab": {
          "base_uri": "https://localhost:8080/",
          "height": 564
        },
        "id": "hooQwVR6V9TH",
        "outputId": "9cc570b5-4c65-4a2a-b601-cd257bc8976c"
      },
      "execution_count": 12,
      "outputs": [
        {
          "output_type": "display_data",
          "data": {
            "text/plain": [
              "<Figure size 800x600 with 1 Axes>"
            ],
            "image/png": "[encoded data removed]"
          },
          "metadata": {}
        }
      ]
    },
    {
      "cell_type": "markdown",
      "source": [
        "The scatter plot with regression line shows a positive correlation between square footage above ground (sqft_above) and house price. As the above-ground square footage increases, house prices tend to increase as well.\n",
        "\n"
      ],
      "metadata": {
        "id": "EX4JvKLDZDwA"
      }
    },
    {
      "cell_type": "code",
      "source": [
        "# Correlation of all features with price\n",
        "correlation_with_price = df.corr()['price'].sort_values(ascending=False)\n",
        "print(\"Top 10 features most correlated with price:\")\n",
        "print(correlation_with_price.head(10))"
      ],
      "metadata": {
        "colab": {
          "base_uri": "https://localhost:8080/"
        },
        "id": "wmS74eazZ8gZ",
        "outputId": "0fdf538d-9459-45b0-ec49-3e379bee564e"
      },
      "execution_count": 19,
      "outputs": [
        {
          "output_type": "stream",
          "name": "stdout",
          "text": [
            "Top 10 features most correlated with price:\n",
            "price            1.000000\n",
            "sqft_living      0.702035\n",
            "grade            0.667434\n",
            "sqft_above       0.605567\n",
            "sqft_living15    0.585379\n",
            "bathrooms        0.525738\n",
            "view             0.397293\n",
            "sqft_basement    0.323816\n",
            "bedrooms         0.308797\n",
            "lat              0.307003\n",
            "Name: price, dtype: float64\n"
          ]
        }
      ]
    },
    {
      "cell_type": "markdown",
      "source": [
        "\n",
        "\n",
        "---\n",
        "# Model Development\n"
      ],
      "metadata": {
        "id": "DYg43prsxGJu"
      }
    },
    {
      "cell_type": "markdown",
      "source": [
        "# Simple Linear Regression using long"
      ],
      "metadata": {
        "id": "_m7C6QMwCHgf"
      }
    },
    {
      "cell_type": "code",
      "source": [
        "# Fit a linear regression model using the longitude feature 'long' and caculate the R^2.\n",
        "x = df[['long']]\n",
        "y = df['price']\n",
        "lm = LinearRegression()\n",
        "lm.fit(x,y)\n",
        "lm.score(x,y)"
      ],
      "metadata": {
        "colab": {
          "base_uri": "https://localhost:8080/"
        },
        "id": "9wcGZpV5xJ7Y",
        "outputId": "a5fb4bdf-1d11-435e-9b77-57447567d598"
      },
      "execution_count": 21,
      "outputs": [
        {
          "output_type": "execute_result",
          "data": {
            "text/plain": [
              "0.00046769430149007363"
            ]
          },
          "metadata": {},
          "execution_count": 21
        }
      ]
    },
    {
      "cell_type": "markdown",
      "source": [
        "The R² value is close to zero → means that the long property does not have a strong impact on the house price."
      ],
      "metadata": {
        "id": "yHZ5MPhw21AS"
      }
    },
    {
      "cell_type": "markdown",
      "source": [
        "\n",
        "\n",
        "---\n",
        "# Simple Linear Regression using sqft_living\n"
      ],
      "metadata": {
        "id": "WT99VgpECNeT"
      }
    },
    {
      "cell_type": "code",
      "source": [
        "# Linear Regression Model Using Feature sqft_living\n",
        "x = df[['sqft_living']]\n",
        "y = df['price']\n",
        "\n",
        "lm = LinearRegression()\n",
        "lm.fit(x,y)\n",
        "r2_score = lm.score(x,y)\n",
        "\n",
        "print(\"R² score using 'sqft_living':\", r2_score)"
      ],
      "metadata": {
        "colab": {
          "base_uri": "https://localhost:8080/"
        },
        "id": "H6EHGFdi27_u",
        "outputId": "4532f419-c9f1-4844-9f9e-9829087adfec"
      },
      "execution_count": 23,
      "outputs": [
        {
          "output_type": "stream",
          "name": "stdout",
          "text": [
            "R² score using 'sqft_living': 0.4928532179037931\n"
          ]
        }
      ]
    },
    {
      "cell_type": "markdown",
      "source": [
        "This means that about 49.3% of the variability in house prices can be explained solely by the size of the living area. While this indicates a strong relationship between house size and price, it also suggests that other features and factors contribute significantly to price variation.\n",
        "\n",
        "Therefore, incorporating additional relevant features into the model is important for improving predictive accuracy.\n",
        "\n"
      ],
      "metadata": {
        "id": "DTH1JD0z9agW"
      }
    },
    {
      "cell_type": "markdown",
      "source": [
        "\n",
        "\n",
        "---\n",
        "# Multiple Linear Regression using Multiple Features\n"
      ],
      "metadata": {
        "id": "eR9PtPvDCSf2"
      }
    },
    {
      "cell_type": "code",
      "source": [
        "# Fit a linear regression model to predict the 'price' using the list of features:\n",
        "features =[\"floors\", \"waterfront\",\"lat\" ,\"bedrooms\" ,\"sqft_basement\" ,\"view\" ,\"bathrooms\",\"sqft_living15\",\"sqft_above\",\"grade\",\"sqft_living\"]\n",
        "x = df[features]\n",
        "y = df['price']\n",
        "\n",
        "lm = LinearRegression()\n",
        "lm.fit(x,y)\n",
        "\n",
        "r2_score = lm.score(x,y)\n",
        "print(\"R² score using multiple features:\", r2_score)\n"
      ],
      "metadata": {
        "colab": {
          "base_uri": "https://localhost:8080/"
        },
        "id": "9K7O9BOf-zOn",
        "outputId": "878da04d-3e0b-4db2-e6de-e7656def1f38"
      },
      "execution_count": 24,
      "outputs": [
        {
          "output_type": "stream",
          "name": "stdout",
          "text": [
            "R² score using multiple features: 0.65769516660375\n"
          ]
        }
      ]
    },
    {
      "cell_type": "markdown",
      "source": [
        "The model achieved an R² score of 0.6577, meaning that approximately 65.8% of the variation in house prices can be explained by these features.\n",
        "\n",
        "Compared to the simpler model using only sqft_living (R² = 0.4928), this multivariate approach provides a significantly better fit.\n",
        "\n",
        "This suggests that house prices are influenced by multiple combined factors rather than a single attribute. Therefore, including diverse relevant features improves the model’s predictive power.\n",
        "\n"
      ],
      "metadata": {
        "id": "32CsvLrT_p4_"
      }
    },
    {
      "cell_type": "markdown",
      "source": [
        "# Polynomial Regression Pipeline (StandardScaler + PolynomialFeatures + LinearRegression)\n"
      ],
      "metadata": {
        "id": "SAi0iWe7Am4M"
      }
    },
    {
      "cell_type": "code",
      "source": [
        "features = [\"floors\", \"waterfront\", \"lat\", \"bedrooms\", \"sqft_basement\",\n",
        "            \"view\", \"bathrooms\", \"sqft_living15\", \"sqft_above\", \"grade\", \"sqft_living\"]\n",
        "\n",
        "x = df[features]\n",
        "y = df['price']\n",
        "\n",
        "# Create a pipeline with scaling, polynomial feature generation, and linear regression\n",
        "input = [\n",
        "    ('scale',StandardScaler()),\n",
        "    ('polynomial',PolynomialFeatures(include_bias=False)),\n",
        "    ('model',LinearRegression())\n",
        "]\n",
        "\n",
        "pipe = Pipeline(input)\n",
        "\n",
        "pipe.fit(x,y)\n",
        "r2_pipeline = pipe.score(x,y)\n",
        "\n",
        "print(\"R² score using pipeline with polynomial features:\", r2_pipeline)\n"
      ],
      "metadata": {
        "colab": {
          "base_uri": "https://localhost:8080/"
        },
        "id": "ZfglMeFjAoU_",
        "outputId": "5b84091a-5728-4032-909b-54e1f5d553fa"
      },
      "execution_count": 26,
      "outputs": [
        {
          "output_type": "stream",
          "name": "stdout",
          "text": [
            "R² score using pipeline with polynomial features: 0.7513408515988734\n"
          ]
        }
      ]
    },
    {
      "cell_type": "markdown",
      "source": [
        "To improve prediction accuracy, i built a machine learning pipeline, The model achieved an R² score of 0.7513, indicating that ~75.1% of the variation in house prices can be explained by this polynomial regression model.\n",
        "This shows a significant improvement compared to using simple linear models on single or multiple features.\n",
        "\n",
        "\n",
        "\n"
      ],
      "metadata": {
        "id": "PCOD9imBBvuq"
      }
    },
    {
      "cell_type": "markdown",
      "source": [
        "\n",
        "\n",
        "---\n",
        "# Model Evaluation and Refinement\n"
      ],
      "metadata": {
        "id": "2P8B6XiqDSlI"
      }
    },
    {
      "cell_type": "markdown",
      "source": [
        "### Ridge Regression on Original Features\n",
        "Use Ridge Regression instead of Linear Regression, because it helps reduce overfitting by reducing the size of the model coefficients using regularization."
      ],
      "metadata": {
        "id": "GwZDumGPDUmV"
      }
    },
    {
      "cell_type": "code",
      "source": [
        "# Code: Ridge Regression with Regularization (alpha=0.1)\n",
        "from sklearn.linear_model import Ridge\n",
        "from sklearn.model_selection import train_test_split\n",
        "\n",
        "# Select features and target\n",
        "features = [\"floors\", \"waterfront\", \"lat\", \"bedrooms\", \"sqft_basement\", \"view\",\n",
        "            \"bathrooms\", \"sqft_living15\", \"sqft_above\", \"grade\", \"sqft_living\"]\n",
        "\n",
        "x = df[features]\n",
        "y = df['price']\n",
        "\n",
        "# Split the data into training and testing sets\n",
        "x_train,x_test,y_train,y_test = train_test_split(x,y,test_size=0.15,random_state=1)\n",
        "\n",
        "# Create and train Ridge regression model\n",
        "RidgeModel = Ridge(alpha=0.1)\n",
        "RidgeModel.fit(x_train,y_train)\n",
        "\n",
        "# Evaluate the model using R² score on the test set\n",
        "r2_ridge = RidgeModel.score(x_test,y_test)\n",
        "\n",
        "print(\"R² score with Ridge regression:\", r2_ridge)"
      ],
      "metadata": {
        "colab": {
          "base_uri": "https://localhost:8080/"
        },
        "id": "LgMx0SunDscJ",
        "outputId": "3313cae4-f334-499e-d9d7-21a5ab221b89"
      },
      "execution_count": 27,
      "outputs": [
        {
          "output_type": "stream",
          "name": "stdout",
          "text": [
            "R² score with Ridge regression: 0.6478759163939113\n"
          ]
        }
      ]
    },
    {
      "cell_type": "markdown",
      "source": [
        "After training the model on 85% of the data and testing on 15%, i achieved an R² score of 0.6479.\n",
        "This means the model explains approximately 64.79% of the variance in house prices.\n",
        "While not perfect, it performs better than using a single feature and is computationally simpler than polynomial models."
      ],
      "metadata": {
        "id": "1XVdfJ4HJTI5"
      }
    },
    {
      "cell_type": "markdown",
      "source": [
        "### Polynomial Features + Ridge Regression"
      ],
      "metadata": {
        "id": "G2-VamAlJajs"
      }
    },
    {
      "cell_type": "code",
      "source": [
        "# Perform 2nd-degree polynomial transform on features\n",
        "poly = PolynomialFeatures(degree=2,include_bias=False)\n",
        "x_train_poly = poly.fit_transform(x_train)\n",
        "x_test_poly = poly.transform(x_test)\n",
        "\n",
        "# Create and train Ridge regression model on polynomial features\n",
        "RidgePolyModel = Ridge(alpha=0.1)\n",
        "RidgePolyModel.fit(x_train_poly,y_train)\n",
        "\n",
        "# Evaluate the model\n",
        "r2_poly_ridge = RidgePolyModel.score(x_test_poly,y_test)\n",
        "print(\"R² score with Ridge + Polynomial features:\", r2_poly_ridge)"
      ],
      "metadata": {
        "colab": {
          "base_uri": "https://localhost:8080/"
        },
        "id": "pqYc_7fQJvnW",
        "outputId": "d010f874-1c35-4984-f418-53dff79f37ff"
      },
      "execution_count": 28,
      "outputs": [
        {
          "output_type": "stream",
          "name": "stdout",
          "text": [
            "R² score with Ridge + Polynomial features: 0.7002744233733298\n"
          ]
        }
      ]
    },
    {
      "cell_type": "markdown",
      "source": [
        "After training and evaluation, the model achieved an R² score of 0.7003 on the test set.\n",
        "This means the model explains approximately 70.03% of the variance in house prices, which is a notable improvement over the basic linear Ridge model.\n",
        "However, the tradeoff is increased model complexity and computation time.\n",
        "\n"
      ],
      "metadata": {
        "id": "ai35RWhqK7l3"
      }
    },
    {
      "cell_type": "markdown",
      "source": [
        "\n",
        "\n",
        "---\n",
        "\n",
        "| Model                             | R² Score | Notes                                |\n",
        "| --------------------------------- | -------- | ------------------------------------ |\n",
        "| Linear Regression (sqft\\_living)  | 0.4929   | Single feature only                  |\n",
        "| Linear Regression (multi-feature) | 0.6577   | Multiple features                    |\n",
        "| Pipeline (Polynomial + Linear)    | 0.7513   | Polynomial + StandardScaler + Linear |\n",
        "| Ridge Regression                  | 0.6479   | Regularized linear model             |\n",
        "| Ridge + Polynomial Features       | 0.7003   | Non-linear + regularized             |\n"
      ],
      "metadata": {
        "id": "6wIroyT6LIaS"
      }
    },
    {
      "cell_type": "markdown",
      "source": [
        "\n",
        "\n",
        "---\n",
        "\n",
        "# Example Price Predictions Using the Final Ridge Regression Model"
      ],
      "metadata": {
        "id": "u1ml6UvxMJ7k"
      }
    },
    {
      "cell_type": "code",
      "source": [
        "# 1. Define new houses with their features\n",
        "new_houses = pd.DataFrame([\n",
        "    [1.0, 0, 47.6, 3, 0.0, 0, 1.0, 1340.0, 1340.0, 6, 1340.0],   # Small basic house, not waterfront\n",
        "    [2.0, 1, 47.7, 4, 500.0, 3, 2.5, 2500.0, 2000.0, 9, 3000.0], # Luxury waterfront house\n",
        "    [1.0, 0, 47.55, 2, 0.0, 0, 1.0, 1000.0, 1000.0, 5, 1000.0]   # Small, average house\n",
        "], columns=features)\n",
        "\n",
        "# 2. Make sure all values are float\n",
        "new_houses = new_houses.astype(float)\n",
        "\n",
        "# 3. Apply the same polynomial transformation used during training\n",
        "new_houses_poly = poly.transform(new_houses)\n",
        "\n",
        "# 4. Predict prices using the trained Ridge regression model\n",
        "predicted_prices = RidgePolyModel.predict(new_houses_poly)\n",
        "\n",
        "# 5. Display predictions\n",
        "for i, price in enumerate(predicted_prices):\n",
        "    print(f\"🏠 Estimated Price for House {i+1}: ${price:,.2f}\")\n"
      ],
      "metadata": {
        "colab": {
          "base_uri": "https://localhost:8080/"
        },
        "id": "5tnE5btAMKdD",
        "outputId": "c0ea159a-f648-4ef1-8c88-c22870e4d9ac"
      },
      "execution_count": 30,
      "outputs": [
        {
          "output_type": "stream",
          "name": "stdout",
          "text": [
            "🏠 Estimated Price for House 1: $311,907.69\n",
            "🏠 Estimated Price for House 2: $1,890,630.86\n",
            "🏠 Estimated Price for House 3: $240,174.39\n"
          ]
        }
      ]
    }
  ]
}